{
  "nbformat": 4,
  "nbformat_minor": 0,
  "metadata": {
    "colab": {
      "name": "ML(miniprojecT).ipynb",
      "provenance": [],
      "collapsed_sections": [],
      "mount_file_id": "1wmhvc2DcH3fUkajrKxBviFWzHK1QYQbr",
      "authorship_tag": "ABX9TyMKgSkKUxxUKlw44m6AEUdG",
      "include_colab_link": true
    },
    "kernelspec": {
      "name": "python3",
      "display_name": "Python 3"
    }
  },
  "cells": [
    {
      "cell_type": "markdown",
      "metadata": {
        "id": "view-in-github",
        "colab_type": "text"
      },
      "source": [
        "<a href=\"https://colab.research.google.com/github/dashami1999/ML-miniproject-/blob/master/ML(miniprojecT).ipynb\" target=\"_parent\"><img src=\"https://colab.research.google.com/assets/colab-badge.svg\" alt=\"Open In Colab\"/></a>"
      ]
    },
    {
      "cell_type": "code",
      "metadata": {
        "id": "rmR1ydCowMHL",
        "colab_type": "code",
        "colab": {
          "base_uri": "https://localhost:8080/",
          "height": 34
        },
        "outputId": "f8f45e85-261d-4120-a6bd-b783c96542fe"
      },
      "source": [
        "!pip install bing-image-downloader"
      ],
      "execution_count": 5,
      "outputs": [
        {
          "output_type": "stream",
          "text": [
            "Requirement already satisfied: bing-image-downloader in /usr/local/lib/python3.6/dist-packages (1.0.4)\n"
          ],
          "name": "stdout"
        }
      ]
    },
    {
      "cell_type": "code",
      "metadata": {
        "id": "5b-JC0RaxGaQ",
        "colab_type": "code",
        "colab": {
          "base_uri": "https://localhost:8080/",
          "height": 34
        },
        "outputId": "d2e6b39b-f509-43bc-c3b8-b541c6afd073"
      },
      "source": [
        "!ls"
      ],
      "execution_count": 2,
      "outputs": [
        {
          "output_type": "stream",
          "text": [
            "drive  sample_data\n"
          ],
          "name": "stdout"
        }
      ]
    },
    {
      "cell_type": "code",
      "metadata": {
        "id": "CQtsMNKXxKcJ",
        "colab_type": "code",
        "colab": {
          "base_uri": "https://localhost:8080/",
          "height": 34
        },
        "outputId": "a0a5eb7a-6dc6-4f55-bc94-a726b05cde64"
      },
      "source": [
        "cd /content/drive/My Drive"
      ],
      "execution_count": 6,
      "outputs": [
        {
          "output_type": "stream",
          "text": [
            "/content/drive/My Drive\n"
          ],
          "name": "stdout"
        }
      ]
    },
    {
      "cell_type": "code",
      "metadata": {
        "id": "yQltlicrxW82",
        "colab_type": "code",
        "colab": {}
      },
      "source": [
        "!mkdir images"
      ],
      "execution_count": 7,
      "outputs": []
    },
    {
      "cell_type": "code",
      "metadata": {
        "id": "ss6jc7MlxanC",
        "colab_type": "code",
        "colab": {
          "base_uri": "https://localhost:8080/",
          "height": 34
        },
        "outputId": "d9a7b981-11f3-47e1-cd30-fb77bec20195"
      },
      "source": [
        "cd images"
      ],
      "execution_count": 8,
      "outputs": [
        {
          "output_type": "stream",
          "text": [
            "/content/drive/My Drive/images\n"
          ],
          "name": "stdout"
        }
      ]
    },
    {
      "cell_type": "code",
      "metadata": {
        "id": "d3FWd3BPzD35",
        "colab_type": "code",
        "colab": {
          "base_uri": "https://localhost:8080/",
          "height": 1000
        },
        "outputId": "7f412f3c-0274-499f-ecd7-9d27a198164b"
      },
      "source": [
        "from bing_image_downloader import downloader\n",
        "downloader.download(\"Strawberry fruit\",limit = 20, output_dir = 'images')"
      ],
      "execution_count": 9,
      "outputs": [
        {
          "output_type": "stream",
          "text": [
            "\n",
            "\n",
            "[!!]Indexing page: 1\n",
            "\n",
            "[%] Indexed 20 Images on Page 1.\n",
            "\n",
            "===============================================\n",
            "\n",
            "[%] Downloading Image #1 from http://4.bp.blogspot.com/-81hQq5sc8R0/Uiok68HyvPI/AAAAAAAABPM/Zg3_5eLKGIk/s1600/strawberries1.jpg\n",
            "[%] File Downloaded !\n",
            "\n",
            "[%] Downloading Image #2 from https://confettiblues.files.wordpress.com/2011/02/strawberryfruit.jpg\n",
            "[%] File Downloaded !\n",
            "\n",
            "[%] Downloading Image #3 from https://www.thermofisher.com/blog/wp-content/uploads/sites/5/2015/08/single_strawberry__isolated_on_a_white_background.jpg\n",
            "[%] File Downloaded !\n",
            "\n",
            "[%] Downloading Image #4 from https://thumbs-prod.si-cdn.com/0WNVhEgcV-c7OdwE4GXG2Tl4XMo=/fit-in/1600x0/https://public-media.si-cdn.com/filer/39/3c/393c51d9-ce11-49ce-9d41-5ef599dfabea/bn8e34.jpg\n",
            "[%] File Downloaded !\n",
            "\n",
            "[%] Downloading Image #5 from http://images6.fanpop.com/image/photos/34900000/Strawberry-fruit-34914839-1920-1200.jpg\n",
            "[%] File Downloaded !\n",
            "\n",
            "[%] Downloading Image #6 from http://1.bp.blogspot.com/-pNGHQLkRuKw/UDBJwtLOucI/AAAAAAAAA0Q/g6_zcXUBcMA/s1600/Strawberry-3.jpg\n",
            "[%] File Downloaded !\n",
            "\n",
            "[%] Downloading Image #7 from http://2.bp.blogspot.com/-VNUhxDLmG1M/UioktJqcaMI/AAAAAAAABPE/Rw5udSatweE/s1600/Strawberry_photos_Fresh_Strawberry_Picture_F045003.jpg\n",
            "[%] File Downloaded !\n",
            "\n",
            "[%] Downloading Image #8 from http://images6.fanpop.com/image/photos/34900000/Strawberry-fruit-34914850-1920-1200.jpg\n",
            "[%] File Downloaded !\n",
            "\n",
            "[%] Downloading Image #9 from https://5.imimg.com/data5/CK/LM/MY-46960546/fresh-red-strawberry-500x500.jpg\n",
            "[%] File Downloaded !\n",
            "\n",
            "[%] Downloading Image #10 from https://cdn.pixabay.com/photo/2017/05/06/21/19/strawberry-2290969_960_720.jpg\n",
            "[%] File Downloaded !\n",
            "\n",
            "[%] Downloading Image #11 from https://media2.s-nbcnews.com/j/streams/2014/July/140707/1D274906288130-beauty-uses-strawberries.fit-760w.jpg\n",
            "[%] File Downloaded !\n",
            "\n",
            "[%] Downloading Image #12 from https://images.esellerpro.com/3048/I/221/85/9CM_STR_A.jpg\n",
            "[%] File Downloaded !\n",
            "\n",
            "[%] Downloading Image #13 from http://images6.fanpop.com/image/photos/34900000/Strawberry-fruit-34914838-1600-1064.jpg\n",
            "[%] File Downloaded !\n",
            "\n",
            "[%] Downloading Image #14 from https://mikksmessages.files.wordpress.com/2012/05/strawberries.jpg\n",
            "[%] File Downloaded !\n",
            "\n",
            "[%] Downloading Image #15 from http://1.bp.blogspot.com/-KoEgRWYqg2U/Tz4B8VnjZXI/AAAAAAAAASY/_tpDZcrvMFo/s1600/6.jpeg\n",
            "[%] File Downloaded !\n",
            "\n",
            "[%] Downloading Image #16 from http://4.bp.blogspot.com/-gRkBktKgNJ8/UZ-0_WxUkZI/AAAAAAAAGIs/41Mz-SwAvKY/s1600/strawberries-transparent-1205x1280.png\n",
            "[%] File Downloaded !\n",
            "\n",
            "[%] Downloading Image #17 from http://4.bp.blogspot.com/--EeB9aE5QoQ/VWY1UEsQa0I/AAAAAAAACH0/gLzieA-nWEI/s1600/strawberry.png\n",
            "[%] File Downloaded !\n",
            "\n",
            "[%] Downloading Image #18 from https://www.burpee.com/on/demandware.static/-/Sites-siteCatalog_Burpee_US/default/dw3464fda0/Category%20Content%20Images/CLP%20Fruits/CATID-7110_Strawberry%20Plants.jpg\n",
            "[%] File Downloaded !\n",
            "\n",
            "[%] Downloading Image #19 from http://2.bp.blogspot.com/-xh_BjMYmi5c/UZ-y0AHyQkI/AAAAAAAAGIQ/4avsJzOkmEM/s1600/strawberries-transparent-1147x1280.png\n",
            "[%] File Downloaded !\n",
            "\n",
            "[%] Downloading Image #20 from https://images.esellerpro.com/3048/I/221/83/9CM_STR_B.jpg\n",
            "[%] File Downloaded !\n",
            "\n"
          ],
          "name": "stdout"
        }
      ]
    },
    {
      "cell_type": "code",
      "metadata": {
        "id": "1UDFMY_PzM7-",
        "colab_type": "code",
        "colab": {
          "base_uri": "https://localhost:8080/",
          "height": 1000
        },
        "outputId": "a9e92b81-a13c-461b-d401-40ad8f1f8571"
      },
      "source": [
        "from bing_image_downloader import downloader\n",
        "downloader.download(\"Litchi fruit\",limit = 20, output_dir = 'images')"
      ],
      "execution_count": 10,
      "outputs": [
        {
          "output_type": "stream",
          "text": [
            "\n",
            "\n",
            "[!!]Indexing page: 1\n",
            "\n",
            "[%] Indexed 20 Images on Page 1.\n",
            "\n",
            "===============================================\n",
            "\n",
            "[%] Downloading Image #1 from https://vespertunes.files.wordpress.com/2015/11/1_lichee.jpg\n",
            "[%] File Downloaded !\n",
            "\n",
            "[%] Downloading Image #2 from http://1.bp.blogspot.com/-NDbJ_zcM0hE/T-AAqmQkgQI/AAAAAAAACM8/QLt4lAuiEhU/s1600/Lychee_Litchi_Chinensis_sweet_tasty_fruit03.jpg\n",
            "[%] File Downloaded !\n",
            "\n",
            "[%] Downloading Image #3 from https://www.thespruceeats.com/thmb/FmbwudINovXRvseoaRXcTl0Upo4=/6000x4000/filters:fill(auto,1)/ripe-and-fresh-litchi-fruit-969751138-5c5b669a46e0fb0001587369.jpg\n",
            "[%] File Downloaded !\n",
            "\n",
            "[%] Downloading Image #4 from https://usamakady.files.wordpress.com/2013/05/hs_lychee.jpg\n",
            "[%] File Downloaded !\n",
            "\n",
            "[%] Downloading Image #5 from https://cdn.britannica.com/18/176518-050-5AB1E61D/lychee-fruits-Southeast-Asia.jpg\n",
            "[%] File Downloaded !\n",
            "\n",
            "[%] Downloading Image #6 from http://4.bp.blogspot.com/-lYpk2Q4aYKE/UZWoNI4PVLI/AAAAAAAADCs/6rIhM5JuZJ0/s1600/brewster_lychee_fruit1.jpg\n",
            "[%] File Downloaded !\n",
            "\n",
            "[%] Downloading Image #7 from http://vapopalooza.com/wp-content/uploads/2014/09/Litchi-Fruit.jpg\n",
            "[%] File Downloaded !\n",
            "\n",
            "[%] Downloading Image #8 from https://lilianausvat.files.wordpress.com/2013/12/lychee111111.jpg\n",
            "[%] File Downloaded !\n",
            "\n",
            "[%] Downloading Image #9 from https://www.gardeningknowhow.com/wp-content/uploads/2017/07/lychee.jpg\n",
            "[%] File Downloaded !\n",
            "\n",
            "[%] Downloading Image #10 from https://upload.wikimedia.org/wikipedia/commons/thumb/4/46/Litchi_chinensis_fruits.JPG/1200px-Litchi_chinensis_fruits.JPG\n",
            "[Error]Invalid image, not saving https://upload.wikimedia.org/wikipedia/commons/thumb/4/46/Litchi_chinensis_fruits.JPG/1200px-Litchi_chinensis_fruits.JPG\n",
            "\n",
            "[!] Issue getting: https://upload.wikimedia.org/wikipedia/commons/thumb/4/46/Litchi_chinensis_fruits.JPG/1200px-Litchi_chinensis_fruits.JPG\n",
            "[!] Error:: No active exception to reraise\n",
            "[%] Downloading Image #10 from https://n2.sdlcdn.com/imgs/h/l/t/Futaba-Litchi-Fruit-Seeds-10-SDL895806683-1-b9e64.jpeg\n",
            "[%] File Downloaded !\n",
            "\n",
            "[%] Downloading Image #11 from https://exoticfruitbox.com/wp-content/uploads/2015/10/litchi1.jpg\n",
            "[%] File Downloaded !\n",
            "\n",
            "[%] Downloading Image #12 from https://www.plantsguru.com/image/cache/data/Fruit%20Plants/plantsguru-fruitplants-litchi-800x800.jpg\n",
            "[%] File Downloaded !\n",
            "\n",
            "[%] Downloading Image #13 from http://healthbenefitsofeating.com/wp-content/uploads/2013/11/lychee-benefits.jpg\n",
            "[%] File Downloaded !\n",
            "\n",
            "[%] Downloading Image #14 from https://i.ytimg.com/vi/32G_BbpeLMA/maxresdefault.jpg\n",
            "[%] File Downloaded !\n",
            "\n",
            "[%] Downloading Image #15 from http://upload.wikimedia.org/wikipedia/commons/a/a8/Twin_lychees_(Litchi_chinensis)-source.JPG\n",
            "[%] File Downloaded !\n",
            "\n",
            "[%] Downloading Image #16 from https://specialfruit.com/en/thumbnail/productFull/product-1422878118/lychee.jpg\n",
            "[%] File Downloaded !\n",
            "\n",
            "[%] Downloading Image #17 from http://i.ebayimg.com/images/i/151904725815-0-1/s-l1000.jpg\n",
            "[%] File Downloaded !\n",
            "\n",
            "[%] Downloading Image #18 from http://www.seriouseats.com/assets_c/2009/09/20080630lychee500-thumb-625xauto-47125.jpg\n",
            "[%] File Downloaded !\n",
            "\n",
            "[%] Downloading Image #19 from http://productimages.brambleberry.com/Fragrance+Oil+Photos/FO225_RedLycheeTea.jpg\n",
            "[%] File Downloaded !\n",
            "\n",
            "\n",
            "\n",
            "[!!]Indexing page: 2\n",
            "\n",
            "[%] Indexed 35 Images on Page 2.\n",
            "\n",
            "===============================================\n",
            "\n",
            "[%] Downloading Image #20 from https://vespertunes.files.wordpress.com/2015/11/1_lichee.jpg\n",
            "[%] File Downloaded !\n",
            "\n",
            "\n",
            "\n",
            "[%] Done. Downloaded 20 images.\n",
            "\n",
            "===============================================\n",
            "\n"
          ],
          "name": "stdout"
        }
      ]
    },
    {
      "cell_type": "code",
      "metadata": {
        "id": "1pKtMJAcz0E-",
        "colab_type": "code",
        "colab": {}
      },
      "source": [
        "downloader.download?"
      ],
      "execution_count": 11,
      "outputs": []
    },
    {
      "cell_type": "code",
      "metadata": {
        "id": "09CbBn7oz8Uf",
        "colab_type": "code",
        "colab": {}
      },
      "source": [
        "import os\n",
        "import numpy as np\n",
        "from skimage.io import imread\n",
        "from skimage.transform import resize"
      ],
      "execution_count": 12,
      "outputs": []
    },
    {
      "cell_type": "code",
      "metadata": {
        "id": "nDEOw53q0IPa",
        "colab_type": "code",
        "colab": {
          "base_uri": "https://localhost:8080/",
          "height": 67
        },
        "outputId": "01a1014d-fadb-4572-91cb-07ab9353defc"
      },
      "source": [
        "target = []   \n",
        "flat_data = []   \n",
        "images= []\n",
        "\n",
        "path = '/content/drive/My Drive/images/images/'\n",
        "for dirpath, dirnames, filenames in os.walk(path):\n",
        "  for filename in filenames:\n",
        "    category = dirpath.split('/')[-1]\n",
        "    target.append(category)\n",
        "    img = imread(f'{path}{category}/{filename}')\n",
        "    img_resized = resize(img,(50,50,3))  \n",
        "    flat_data.append(img_resized.flatten())\n",
        "    images.append(img_resized)\n",
        "\n",
        "flat_data = np.array(flat_data)\n",
        "target = np.array(target)\n",
        "images = np.array(images)\n",
        "\n",
        "print(flat_data.shape)\n",
        "print(target.shape)\n",
        "print(images.shape)"
      ],
      "execution_count": 14,
      "outputs": [
        {
          "output_type": "stream",
          "text": [
            "(40, 7500)\n",
            "(40,)\n",
            "(40, 50, 50, 3)\n"
          ],
          "name": "stdout"
        }
      ]
    },
    {
      "cell_type": "code",
      "metadata": {
        "id": "sIT6wSq80YGk",
        "colab_type": "code",
        "colab": {}
      },
      "source": [
        "import pandas as pd\n",
        "df = pd.DataFrame(flat_data)\n",
        "df['Target'] = target"
      ],
      "execution_count": 15,
      "outputs": []
    },
    {
      "cell_type": "code",
      "metadata": {
        "id": "xfF_bnqz1ce9",
        "colab_type": "code",
        "colab": {
          "base_uri": "https://localhost:8080/",
          "height": 328
        },
        "outputId": "732956b3-fa76-4858-8173-909ac6d28b5a"
      },
      "source": [
        "df.head()"
      ],
      "execution_count": 26,
      "outputs": [
        {
          "output_type": "execute_result",
          "data": {
            "text/html": [
              "<div>\n",
              "<style scoped>\n",
              "    .dataframe tbody tr th:only-of-type {\n",
              "        vertical-align: middle;\n",
              "    }\n",
              "\n",
              "    .dataframe tbody tr th {\n",
              "        vertical-align: top;\n",
              "    }\n",
              "\n",
              "    .dataframe thead th {\n",
              "        text-align: right;\n",
              "    }\n",
              "</style>\n",
              "<table border=\"1\" class=\"dataframe\">\n",
              "  <thead>\n",
              "    <tr style=\"text-align: right;\">\n",
              "      <th></th>\n",
              "      <th>0</th>\n",
              "      <th>1</th>\n",
              "      <th>2</th>\n",
              "      <th>3</th>\n",
              "      <th>4</th>\n",
              "      <th>5</th>\n",
              "      <th>6</th>\n",
              "      <th>7</th>\n",
              "      <th>8</th>\n",
              "      <th>9</th>\n",
              "      <th>10</th>\n",
              "      <th>11</th>\n",
              "      <th>12</th>\n",
              "      <th>13</th>\n",
              "      <th>14</th>\n",
              "      <th>15</th>\n",
              "      <th>16</th>\n",
              "      <th>17</th>\n",
              "      <th>18</th>\n",
              "      <th>19</th>\n",
              "      <th>20</th>\n",
              "      <th>21</th>\n",
              "      <th>22</th>\n",
              "      <th>23</th>\n",
              "      <th>24</th>\n",
              "      <th>25</th>\n",
              "      <th>26</th>\n",
              "      <th>27</th>\n",
              "      <th>28</th>\n",
              "      <th>29</th>\n",
              "      <th>30</th>\n",
              "      <th>31</th>\n",
              "      <th>32</th>\n",
              "      <th>33</th>\n",
              "      <th>34</th>\n",
              "      <th>35</th>\n",
              "      <th>36</th>\n",
              "      <th>37</th>\n",
              "      <th>38</th>\n",
              "      <th>39</th>\n",
              "      <th>...</th>\n",
              "      <th>7461</th>\n",
              "      <th>7462</th>\n",
              "      <th>7463</th>\n",
              "      <th>7464</th>\n",
              "      <th>7465</th>\n",
              "      <th>7466</th>\n",
              "      <th>7467</th>\n",
              "      <th>7468</th>\n",
              "      <th>7469</th>\n",
              "      <th>7470</th>\n",
              "      <th>7471</th>\n",
              "      <th>7472</th>\n",
              "      <th>7473</th>\n",
              "      <th>7474</th>\n",
              "      <th>7475</th>\n",
              "      <th>7476</th>\n",
              "      <th>7477</th>\n",
              "      <th>7478</th>\n",
              "      <th>7479</th>\n",
              "      <th>7480</th>\n",
              "      <th>7481</th>\n",
              "      <th>7482</th>\n",
              "      <th>7483</th>\n",
              "      <th>7484</th>\n",
              "      <th>7485</th>\n",
              "      <th>7486</th>\n",
              "      <th>7487</th>\n",
              "      <th>7488</th>\n",
              "      <th>7489</th>\n",
              "      <th>7490</th>\n",
              "      <th>7491</th>\n",
              "      <th>7492</th>\n",
              "      <th>7493</th>\n",
              "      <th>7494</th>\n",
              "      <th>7495</th>\n",
              "      <th>7496</th>\n",
              "      <th>7497</th>\n",
              "      <th>7498</th>\n",
              "      <th>7499</th>\n",
              "      <th>Target</th>\n",
              "    </tr>\n",
              "  </thead>\n",
              "  <tbody>\n",
              "    <tr>\n",
              "      <th>0</th>\n",
              "      <td>0.980392</td>\n",
              "      <td>0.968627</td>\n",
              "      <td>0.933333</td>\n",
              "      <td>0.972549</td>\n",
              "      <td>0.960784</td>\n",
              "      <td>0.921569</td>\n",
              "      <td>0.968627</td>\n",
              "      <td>0.952941</td>\n",
              "      <td>0.909804</td>\n",
              "      <td>0.962745</td>\n",
              "      <td>0.947373</td>\n",
              "      <td>0.901961</td>\n",
              "      <td>0.956863</td>\n",
              "      <td>0.941490</td>\n",
              "      <td>0.894118</td>\n",
              "      <td>0.956863</td>\n",
              "      <td>0.937255</td>\n",
              "      <td>0.890196</td>\n",
              "      <td>0.952941</td>\n",
              "      <td>0.937255</td>\n",
              "      <td>0.890196</td>\n",
              "      <td>0.949020</td>\n",
              "      <td>0.933333</td>\n",
              "      <td>0.886275</td>\n",
              "      <td>0.949020</td>\n",
              "      <td>0.933333</td>\n",
              "      <td>0.886275</td>\n",
              "      <td>0.949020</td>\n",
              "      <td>0.933333</td>\n",
              "      <td>0.886275</td>\n",
              "      <td>0.949020</td>\n",
              "      <td>0.933333</td>\n",
              "      <td>0.886275</td>\n",
              "      <td>0.952941</td>\n",
              "      <td>0.933333</td>\n",
              "      <td>0.886275</td>\n",
              "      <td>0.952941</td>\n",
              "      <td>0.937255</td>\n",
              "      <td>0.890196</td>\n",
              "      <td>0.956863</td>\n",
              "      <td>...</td>\n",
              "      <td>0.921569</td>\n",
              "      <td>0.895765</td>\n",
              "      <td>0.846745</td>\n",
              "      <td>0.925490</td>\n",
              "      <td>0.905882</td>\n",
              "      <td>0.858824</td>\n",
              "      <td>0.925490</td>\n",
              "      <td>0.909804</td>\n",
              "      <td>0.862745</td>\n",
              "      <td>0.925490</td>\n",
              "      <td>0.913725</td>\n",
              "      <td>0.866667</td>\n",
              "      <td>0.925490</td>\n",
              "      <td>0.913725</td>\n",
              "      <td>0.866667</td>\n",
              "      <td>0.929412</td>\n",
              "      <td>0.913725</td>\n",
              "      <td>0.870588</td>\n",
              "      <td>0.937255</td>\n",
              "      <td>0.925490</td>\n",
              "      <td>0.886275</td>\n",
              "      <td>0.941176</td>\n",
              "      <td>0.929412</td>\n",
              "      <td>0.890196</td>\n",
              "      <td>0.945098</td>\n",
              "      <td>0.933333</td>\n",
              "      <td>0.894118</td>\n",
              "      <td>0.968627</td>\n",
              "      <td>0.958824</td>\n",
              "      <td>0.927451</td>\n",
              "      <td>0.992157</td>\n",
              "      <td>0.992157</td>\n",
              "      <td>0.976471</td>\n",
              "      <td>0.992157</td>\n",
              "      <td>0.992157</td>\n",
              "      <td>0.980392</td>\n",
              "      <td>0.992157</td>\n",
              "      <td>0.992157</td>\n",
              "      <td>0.980392</td>\n",
              "      <td>Strawberry fruit</td>\n",
              "    </tr>\n",
              "    <tr>\n",
              "      <th>1</th>\n",
              "      <td>0.988235</td>\n",
              "      <td>0.992157</td>\n",
              "      <td>0.972549</td>\n",
              "      <td>0.988235</td>\n",
              "      <td>0.992157</td>\n",
              "      <td>0.972549</td>\n",
              "      <td>0.992157</td>\n",
              "      <td>0.996078</td>\n",
              "      <td>0.976471</td>\n",
              "      <td>0.992157</td>\n",
              "      <td>0.996078</td>\n",
              "      <td>0.976471</td>\n",
              "      <td>0.992157</td>\n",
              "      <td>0.996078</td>\n",
              "      <td>0.976471</td>\n",
              "      <td>0.992157</td>\n",
              "      <td>0.996078</td>\n",
              "      <td>0.976471</td>\n",
              "      <td>0.992157</td>\n",
              "      <td>0.996078</td>\n",
              "      <td>0.976471</td>\n",
              "      <td>0.992157</td>\n",
              "      <td>0.996078</td>\n",
              "      <td>0.976471</td>\n",
              "      <td>0.996078</td>\n",
              "      <td>0.996078</td>\n",
              "      <td>0.976471</td>\n",
              "      <td>0.996078</td>\n",
              "      <td>0.996078</td>\n",
              "      <td>0.980392</td>\n",
              "      <td>0.996078</td>\n",
              "      <td>0.996078</td>\n",
              "      <td>0.980392</td>\n",
              "      <td>0.996078</td>\n",
              "      <td>0.996078</td>\n",
              "      <td>0.980392</td>\n",
              "      <td>0.996078</td>\n",
              "      <td>0.996078</td>\n",
              "      <td>0.980392</td>\n",
              "      <td>0.996078</td>\n",
              "      <td>...</td>\n",
              "      <td>0.968627</td>\n",
              "      <td>0.960784</td>\n",
              "      <td>0.909804</td>\n",
              "      <td>0.968627</td>\n",
              "      <td>0.960784</td>\n",
              "      <td>0.909804</td>\n",
              "      <td>0.968627</td>\n",
              "      <td>0.960784</td>\n",
              "      <td>0.905882</td>\n",
              "      <td>0.968627</td>\n",
              "      <td>0.960784</td>\n",
              "      <td>0.909804</td>\n",
              "      <td>0.968627</td>\n",
              "      <td>0.960784</td>\n",
              "      <td>0.909804</td>\n",
              "      <td>0.964706</td>\n",
              "      <td>0.956863</td>\n",
              "      <td>0.894118</td>\n",
              "      <td>0.964706</td>\n",
              "      <td>0.952941</td>\n",
              "      <td>0.894118</td>\n",
              "      <td>0.964706</td>\n",
              "      <td>0.952941</td>\n",
              "      <td>0.890196</td>\n",
              "      <td>0.964706</td>\n",
              "      <td>0.952941</td>\n",
              "      <td>0.890196</td>\n",
              "      <td>0.964706</td>\n",
              "      <td>0.956863</td>\n",
              "      <td>0.898039</td>\n",
              "      <td>0.968627</td>\n",
              "      <td>0.956863</td>\n",
              "      <td>0.901961</td>\n",
              "      <td>0.968627</td>\n",
              "      <td>0.956863</td>\n",
              "      <td>0.901961</td>\n",
              "      <td>0.968627</td>\n",
              "      <td>0.956863</td>\n",
              "      <td>0.898039</td>\n",
              "      <td>Strawberry fruit</td>\n",
              "    </tr>\n",
              "    <tr>\n",
              "      <th>2</th>\n",
              "      <td>1.000000</td>\n",
              "      <td>1.000000</td>\n",
              "      <td>1.000000</td>\n",
              "      <td>1.000000</td>\n",
              "      <td>1.000000</td>\n",
              "      <td>1.000000</td>\n",
              "      <td>1.000000</td>\n",
              "      <td>1.000000</td>\n",
              "      <td>1.000000</td>\n",
              "      <td>1.000000</td>\n",
              "      <td>1.000000</td>\n",
              "      <td>1.000000</td>\n",
              "      <td>1.000000</td>\n",
              "      <td>1.000000</td>\n",
              "      <td>1.000000</td>\n",
              "      <td>1.000000</td>\n",
              "      <td>1.000000</td>\n",
              "      <td>1.000000</td>\n",
              "      <td>1.000000</td>\n",
              "      <td>1.000000</td>\n",
              "      <td>1.000000</td>\n",
              "      <td>1.000000</td>\n",
              "      <td>1.000000</td>\n",
              "      <td>1.000000</td>\n",
              "      <td>1.000000</td>\n",
              "      <td>1.000000</td>\n",
              "      <td>1.000000</td>\n",
              "      <td>1.000000</td>\n",
              "      <td>1.000000</td>\n",
              "      <td>1.000000</td>\n",
              "      <td>1.000000</td>\n",
              "      <td>1.000000</td>\n",
              "      <td>1.000000</td>\n",
              "      <td>1.000000</td>\n",
              "      <td>1.000000</td>\n",
              "      <td>1.000000</td>\n",
              "      <td>1.000000</td>\n",
              "      <td>1.000000</td>\n",
              "      <td>1.000000</td>\n",
              "      <td>1.000000</td>\n",
              "      <td>...</td>\n",
              "      <td>1.000000</td>\n",
              "      <td>1.000000</td>\n",
              "      <td>1.000000</td>\n",
              "      <td>1.000000</td>\n",
              "      <td>1.000000</td>\n",
              "      <td>1.000000</td>\n",
              "      <td>1.000000</td>\n",
              "      <td>1.000000</td>\n",
              "      <td>1.000000</td>\n",
              "      <td>1.000000</td>\n",
              "      <td>1.000000</td>\n",
              "      <td>1.000000</td>\n",
              "      <td>1.000000</td>\n",
              "      <td>1.000000</td>\n",
              "      <td>1.000000</td>\n",
              "      <td>1.000000</td>\n",
              "      <td>1.000000</td>\n",
              "      <td>1.000000</td>\n",
              "      <td>1.000000</td>\n",
              "      <td>1.000000</td>\n",
              "      <td>1.000000</td>\n",
              "      <td>1.000000</td>\n",
              "      <td>1.000000</td>\n",
              "      <td>1.000000</td>\n",
              "      <td>1.000000</td>\n",
              "      <td>1.000000</td>\n",
              "      <td>1.000000</td>\n",
              "      <td>1.000000</td>\n",
              "      <td>1.000000</td>\n",
              "      <td>1.000000</td>\n",
              "      <td>1.000000</td>\n",
              "      <td>1.000000</td>\n",
              "      <td>1.000000</td>\n",
              "      <td>1.000000</td>\n",
              "      <td>1.000000</td>\n",
              "      <td>1.000000</td>\n",
              "      <td>1.000000</td>\n",
              "      <td>1.000000</td>\n",
              "      <td>1.000000</td>\n",
              "      <td>Strawberry fruit</td>\n",
              "    </tr>\n",
              "    <tr>\n",
              "      <th>3</th>\n",
              "      <td>1.000000</td>\n",
              "      <td>1.000000</td>\n",
              "      <td>1.000000</td>\n",
              "      <td>1.000000</td>\n",
              "      <td>1.000000</td>\n",
              "      <td>1.000000</td>\n",
              "      <td>1.000000</td>\n",
              "      <td>1.000000</td>\n",
              "      <td>1.000000</td>\n",
              "      <td>1.000000</td>\n",
              "      <td>1.000000</td>\n",
              "      <td>1.000000</td>\n",
              "      <td>1.000000</td>\n",
              "      <td>1.000000</td>\n",
              "      <td>1.000000</td>\n",
              "      <td>1.000000</td>\n",
              "      <td>1.000000</td>\n",
              "      <td>1.000000</td>\n",
              "      <td>1.000000</td>\n",
              "      <td>1.000000</td>\n",
              "      <td>1.000000</td>\n",
              "      <td>1.000000</td>\n",
              "      <td>1.000000</td>\n",
              "      <td>1.000000</td>\n",
              "      <td>1.000000</td>\n",
              "      <td>1.000000</td>\n",
              "      <td>1.000000</td>\n",
              "      <td>1.000000</td>\n",
              "      <td>1.000000</td>\n",
              "      <td>1.000000</td>\n",
              "      <td>1.000000</td>\n",
              "      <td>1.000000</td>\n",
              "      <td>1.000000</td>\n",
              "      <td>1.000000</td>\n",
              "      <td>1.000000</td>\n",
              "      <td>1.000000</td>\n",
              "      <td>1.000000</td>\n",
              "      <td>1.000000</td>\n",
              "      <td>1.000000</td>\n",
              "      <td>1.000000</td>\n",
              "      <td>...</td>\n",
              "      <td>1.000000</td>\n",
              "      <td>1.000000</td>\n",
              "      <td>1.000000</td>\n",
              "      <td>1.000000</td>\n",
              "      <td>1.000000</td>\n",
              "      <td>1.000000</td>\n",
              "      <td>1.000000</td>\n",
              "      <td>1.000000</td>\n",
              "      <td>1.000000</td>\n",
              "      <td>1.000000</td>\n",
              "      <td>1.000000</td>\n",
              "      <td>1.000000</td>\n",
              "      <td>1.000000</td>\n",
              "      <td>1.000000</td>\n",
              "      <td>1.000000</td>\n",
              "      <td>1.000000</td>\n",
              "      <td>1.000000</td>\n",
              "      <td>1.000000</td>\n",
              "      <td>1.000000</td>\n",
              "      <td>1.000000</td>\n",
              "      <td>1.000000</td>\n",
              "      <td>1.000000</td>\n",
              "      <td>1.000000</td>\n",
              "      <td>1.000000</td>\n",
              "      <td>1.000000</td>\n",
              "      <td>1.000000</td>\n",
              "      <td>1.000000</td>\n",
              "      <td>1.000000</td>\n",
              "      <td>1.000000</td>\n",
              "      <td>1.000000</td>\n",
              "      <td>1.000000</td>\n",
              "      <td>1.000000</td>\n",
              "      <td>1.000000</td>\n",
              "      <td>1.000000</td>\n",
              "      <td>1.000000</td>\n",
              "      <td>1.000000</td>\n",
              "      <td>1.000000</td>\n",
              "      <td>1.000000</td>\n",
              "      <td>1.000000</td>\n",
              "      <td>Strawberry fruit</td>\n",
              "    </tr>\n",
              "    <tr>\n",
              "      <th>4</th>\n",
              "      <td>0.745686</td>\n",
              "      <td>0.090784</td>\n",
              "      <td>0.019608</td>\n",
              "      <td>0.664510</td>\n",
              "      <td>0.050980</td>\n",
              "      <td>0.007843</td>\n",
              "      <td>0.674510</td>\n",
              "      <td>0.047059</td>\n",
              "      <td>0.007843</td>\n",
              "      <td>0.701765</td>\n",
              "      <td>0.066667</td>\n",
              "      <td>0.027451</td>\n",
              "      <td>0.743137</td>\n",
              "      <td>0.139216</td>\n",
              "      <td>0.103922</td>\n",
              "      <td>0.720196</td>\n",
              "      <td>0.071176</td>\n",
              "      <td>0.033333</td>\n",
              "      <td>0.757059</td>\n",
              "      <td>0.195098</td>\n",
              "      <td>0.187255</td>\n",
              "      <td>0.826471</td>\n",
              "      <td>0.352941</td>\n",
              "      <td>0.376471</td>\n",
              "      <td>0.837059</td>\n",
              "      <td>0.326667</td>\n",
              "      <td>0.350196</td>\n",
              "      <td>0.872549</td>\n",
              "      <td>0.475098</td>\n",
              "      <td>0.508431</td>\n",
              "      <td>0.827451</td>\n",
              "      <td>0.323333</td>\n",
              "      <td>0.358627</td>\n",
              "      <td>0.796078</td>\n",
              "      <td>0.156471</td>\n",
              "      <td>0.152549</td>\n",
              "      <td>0.811765</td>\n",
              "      <td>0.156863</td>\n",
              "      <td>0.129412</td>\n",
              "      <td>0.839216</td>\n",
              "      <td>...</td>\n",
              "      <td>0.803922</td>\n",
              "      <td>0.162745</td>\n",
              "      <td>0.035294</td>\n",
              "      <td>0.757255</td>\n",
              "      <td>0.119804</td>\n",
              "      <td>0.050980</td>\n",
              "      <td>0.532353</td>\n",
              "      <td>0.027451</td>\n",
              "      <td>0.011765</td>\n",
              "      <td>0.188235</td>\n",
              "      <td>0.019608</td>\n",
              "      <td>0.003922</td>\n",
              "      <td>0.412941</td>\n",
              "      <td>0.019608</td>\n",
              "      <td>0.003922</td>\n",
              "      <td>0.663725</td>\n",
              "      <td>0.024510</td>\n",
              "      <td>0.007843</td>\n",
              "      <td>0.721176</td>\n",
              "      <td>0.023529</td>\n",
              "      <td>0.015686</td>\n",
              "      <td>0.749020</td>\n",
              "      <td>0.056275</td>\n",
              "      <td>0.035294</td>\n",
              "      <td>0.772549</td>\n",
              "      <td>0.041176</td>\n",
              "      <td>0.030784</td>\n",
              "      <td>0.819608</td>\n",
              "      <td>0.194314</td>\n",
              "      <td>0.169020</td>\n",
              "      <td>0.788235</td>\n",
              "      <td>0.092157</td>\n",
              "      <td>0.076471</td>\n",
              "      <td>0.792157</td>\n",
              "      <td>0.058824</td>\n",
              "      <td>0.043137</td>\n",
              "      <td>0.772549</td>\n",
              "      <td>0.022941</td>\n",
              "      <td>0.017059</td>\n",
              "      <td>Strawberry fruit</td>\n",
              "    </tr>\n",
              "  </tbody>\n",
              "</table>\n",
              "<p>5 rows × 7501 columns</p>\n",
              "</div>"
            ],
            "text/plain": [
              "          0         1         2  ...      7498      7499            Target\n",
              "0  0.980392  0.968627  0.933333  ...  0.992157  0.980392  Strawberry fruit\n",
              "1  0.988235  0.992157  0.972549  ...  0.956863  0.898039  Strawberry fruit\n",
              "2  1.000000  1.000000  1.000000  ...  1.000000  1.000000  Strawberry fruit\n",
              "3  1.000000  1.000000  1.000000  ...  1.000000  1.000000  Strawberry fruit\n",
              "4  0.745686  0.090784  0.019608  ...  0.022941  0.017059  Strawberry fruit\n",
              "\n",
              "[5 rows x 7501 columns]"
            ]
          },
          "metadata": {
            "tags": []
          },
          "execution_count": 26
        }
      ]
    },
    {
      "cell_type": "code",
      "metadata": {
        "id": "CcRP2nEE1gH3",
        "colab_type": "code",
        "colab": {}
      },
      "source": [
        "x=df.drop(columns=['Target'])\n",
        "y=df['Target']"
      ],
      "execution_count": 27,
      "outputs": []
    },
    {
      "cell_type": "code",
      "metadata": {
        "id": "Sprf2KaV1kHM",
        "colab_type": "code",
        "colab": {
          "base_uri": "https://localhost:8080/",
          "height": 34
        },
        "outputId": "55e5b8f0-75e8-41f6-f9eb-5381d2a0df86"
      },
      "source": [
        "from sklearn.model_selection import train_test_split\n",
        "x_train,x_test,y_train,y_test=train_test_split(x,y)\n",
        "x_train.shape,x_test.shape,y_train.shape,y_test.shape"
      ],
      "execution_count": 28,
      "outputs": [
        {
          "output_type": "execute_result",
          "data": {
            "text/plain": [
              "((30, 7500), (10, 7500), (30,), (10,))"
            ]
          },
          "metadata": {
            "tags": []
          },
          "execution_count": 28
        }
      ]
    },
    {
      "cell_type": "code",
      "metadata": {
        "id": "XZxHiru62Fs5",
        "colab_type": "code",
        "colab": {
          "base_uri": "https://localhost:8080/",
          "height": 84
        },
        "outputId": "2cc45638-301d-4348-edbc-52d027cde564"
      },
      "source": [
        "from sklearn.neighbors import KNeighborsClassifier\n",
        "model=KNeighborsClassifier(n_neighbors=6)\n",
        "model.fit(x_train,y_train)\n",
        "pred=model.predict(x_test)\n",
        "pred"
      ],
      "execution_count": 29,
      "outputs": [
        {
          "output_type": "execute_result",
          "data": {
            "text/plain": [
              "array(['Litchi fruit', 'Strawberry fruit', 'Strawberry fruit',\n",
              "       'Strawberry fruit', 'Strawberry fruit', 'Strawberry fruit',\n",
              "       'Litchi fruit', 'Litchi fruit', 'Strawberry fruit',\n",
              "       'Strawberry fruit'], dtype=object)"
            ]
          },
          "metadata": {
            "tags": []
          },
          "execution_count": 29
        }
      ]
    },
    {
      "cell_type": "code",
      "metadata": {
        "id": "4Azqymnz2LAl",
        "colab_type": "code",
        "colab": {
          "base_uri": "https://localhost:8080/",
          "height": 202
        },
        "outputId": "177465a9-e7bc-4a66-99f6-5550a002795f"
      },
      "source": [
        "y_test"
      ],
      "execution_count": 31,
      "outputs": [
        {
          "output_type": "execute_result",
          "data": {
            "text/plain": [
              "13    Strawberry fruit\n",
              "35        Litchi fruit\n",
              "11    Strawberry fruit\n",
              "31        Litchi fruit\n",
              "38        Litchi fruit\n",
              "3     Strawberry fruit\n",
              "25        Litchi fruit\n",
              "15    Strawberry fruit\n",
              "19    Strawberry fruit\n",
              "22        Litchi fruit\n",
              "Name: Target, dtype: object"
            ]
          },
          "metadata": {
            "tags": []
          },
          "execution_count": 31
        }
      ]
    },
    {
      "cell_type": "code",
      "metadata": {
        "id": "euVIOBbz2azO",
        "colab_type": "code",
        "colab": {
          "base_uri": "https://localhost:8080/",
          "height": 168
        },
        "outputId": "af8848e5-1ab8-42bd-db05-35a0c70429c6"
      },
      "source": [
        "from sklearn.metrics import classification_report\n",
        "print(classification_report(y_test,pred))"
      ],
      "execution_count": 32,
      "outputs": [
        {
          "output_type": "stream",
          "text": [
            "                  precision    recall  f1-score   support\n",
            "\n",
            "    Litchi fruit       0.33      0.20      0.25         5\n",
            "Strawberry fruit       0.43      0.60      0.50         5\n",
            "\n",
            "        accuracy                           0.40        10\n",
            "       macro avg       0.38      0.40      0.38        10\n",
            "    weighted avg       0.38      0.40      0.38        10\n",
            "\n"
          ],
          "name": "stdout"
        }
      ]
    },
    {
      "cell_type": "code",
      "metadata": {
        "id": "E9ZKxeOI2lNP",
        "colab_type": "code",
        "colab": {
          "base_uri": "https://localhost:8080/",
          "height": 84
        },
        "outputId": "78b443a4-9e86-4b27-b219-45bb9d45fed4"
      },
      "source": [
        "from sklearn.linear_model import LogisticRegression as LR\n",
        "m=LR()\n",
        "m.fit(x_train,y_train)\n",
        "pred=m.predict(x_test)\n",
        "pred"
      ],
      "execution_count": 33,
      "outputs": [
        {
          "output_type": "execute_result",
          "data": {
            "text/plain": [
              "array(['Litchi fruit', 'Strawberry fruit', 'Strawberry fruit',\n",
              "       'Litchi fruit', 'Strawberry fruit', 'Strawberry fruit',\n",
              "       'Litchi fruit', 'Strawberry fruit', 'Strawberry fruit',\n",
              "       'Strawberry fruit'], dtype=object)"
            ]
          },
          "metadata": {
            "tags": []
          },
          "execution_count": 33
        }
      ]
    },
    {
      "cell_type": "code",
      "metadata": {
        "id": "Oc0fUVPy3W2z",
        "colab_type": "code",
        "colab": {
          "base_uri": "https://localhost:8080/",
          "height": 168
        },
        "outputId": "d263ec49-eb58-4880-af10-6d85ccf102e3"
      },
      "source": [
        "from sklearn.metrics import classification_report\n",
        "print(classification_report(y_test,pred))"
      ],
      "execution_count": 34,
      "outputs": [
        {
          "output_type": "stream",
          "text": [
            "                  precision    recall  f1-score   support\n",
            "\n",
            "    Litchi fruit       0.67      0.40      0.50         5\n",
            "Strawberry fruit       0.57      0.80      0.67         5\n",
            "\n",
            "        accuracy                           0.60        10\n",
            "       macro avg       0.62      0.60      0.58        10\n",
            "    weighted avg       0.62      0.60      0.58        10\n",
            "\n"
          ],
          "name": "stdout"
        }
      ]
    },
    {
      "cell_type": "code",
      "metadata": {
        "id": "YZnNTphM4HP-",
        "colab_type": "code",
        "colab": {
          "base_uri": "https://localhost:8080/",
          "height": 202
        },
        "outputId": "a9a4288c-adf5-49d7-a63f-0ca92b87b206"
      },
      "source": [
        "from sklearn.metrics import classification_report,confusion_matrix\n",
        "print(classification_report(y_test,pred))\n",
        "print(confusion_matrix(y_test,pred))"
      ],
      "execution_count": 35,
      "outputs": [
        {
          "output_type": "stream",
          "text": [
            "                  precision    recall  f1-score   support\n",
            "\n",
            "    Litchi fruit       0.67      0.40      0.50         5\n",
            "Strawberry fruit       0.57      0.80      0.67         5\n",
            "\n",
            "        accuracy                           0.60        10\n",
            "       macro avg       0.62      0.60      0.58        10\n",
            "    weighted avg       0.62      0.60      0.58        10\n",
            "\n",
            "[[2 3]\n",
            " [1 4]]\n"
          ],
          "name": "stdout"
        }
      ]
    },
    {
      "cell_type": "code",
      "metadata": {
        "id": "eIo1BJz74RO2",
        "colab_type": "code",
        "colab": {
          "base_uri": "https://localhost:8080/",
          "height": 50
        },
        "outputId": "37fc4ac5-83cf-4df3-d023-7e0c4a4a29f8"
      },
      "source": [
        "z = np.arange(1,25)\n",
        "z"
      ],
      "execution_count": 36,
      "outputs": [
        {
          "output_type": "execute_result",
          "data": {
            "text/plain": [
              "array([ 1,  2,  3,  4,  5,  6,  7,  8,  9, 10, 11, 12, 13, 14, 15, 16, 17,\n",
              "       18, 19, 20, 21, 22, 23, 24])"
            ]
          },
          "metadata": {
            "tags": []
          },
          "execution_count": 36
        }
      ]
    },
    {
      "cell_type": "code",
      "metadata": {
        "id": "OmUHebhj4Zii",
        "colab_type": "code",
        "colab": {
          "base_uri": "https://localhost:8080/",
          "height": 202
        },
        "outputId": "3f1d5bb0-eac2-4923-bf6f-71ec59a06e39"
      },
      "source": [
        "from sklearn.model_selection import GridSearchCV\n",
        "param={'n_neighbors':z}   \n",
        "model = KNeighborsClassifier()\n",
        "model_grid = GridSearchCV(model,param)    \n",
        "model_grid.fit(x_train,y_train)"
      ],
      "execution_count": 37,
      "outputs": [
        {
          "output_type": "execute_result",
          "data": {
            "text/plain": [
              "GridSearchCV(cv=None, error_score=nan,\n",
              "             estimator=KNeighborsClassifier(algorithm='auto', leaf_size=30,\n",
              "                                            metric='minkowski',\n",
              "                                            metric_params=None, n_jobs=None,\n",
              "                                            n_neighbors=5, p=2,\n",
              "                                            weights='uniform'),\n",
              "             iid='deprecated', n_jobs=None,\n",
              "             param_grid={'n_neighbors': array([ 1,  2,  3,  4,  5,  6,  7,  8,  9, 10, 11, 12, 13, 14, 15, 16, 17,\n",
              "       18, 19, 20, 21, 22, 23, 24])},\n",
              "             pre_dispatch='2*n_jobs', refit=True, return_train_score=False,\n",
              "             scoring=None, verbose=0)"
            ]
          },
          "metadata": {
            "tags": []
          },
          "execution_count": 37
        }
      ]
    },
    {
      "cell_type": "code",
      "metadata": {
        "id": "YLSj6IB174y-",
        "colab_type": "code",
        "colab": {
          "base_uri": "https://localhost:8080/",
          "height": 34
        },
        "outputId": "523dc25f-6349-4758-e828-d75dc7c2614e"
      },
      "source": [
        "model_grid.best_params_"
      ],
      "execution_count": 38,
      "outputs": [
        {
          "output_type": "execute_result",
          "data": {
            "text/plain": [
              "{'n_neighbors': 3}"
            ]
          },
          "metadata": {
            "tags": []
          },
          "execution_count": 38
        }
      ]
    },
    {
      "cell_type": "code",
      "metadata": {
        "id": "7FOfEZnx8CkN",
        "colab_type": "code",
        "colab": {
          "base_uri": "https://localhost:8080/",
          "height": 84
        },
        "outputId": "e6bd7316-6fda-41e1-b8c0-9d52218ad40e"
      },
      "source": [
        "from sklearn.neighbors import KNeighborsClassifier\n",
        "model=KNeighborsClassifier(n_neighbors=8)\n",
        "model.fit(x_train,y_train)\n",
        "pred=model.predict(x_test)\n",
        "pred"
      ],
      "execution_count": 39,
      "outputs": [
        {
          "output_type": "execute_result",
          "data": {
            "text/plain": [
              "array(['Strawberry fruit', 'Strawberry fruit', 'Strawberry fruit',\n",
              "       'Litchi fruit', 'Strawberry fruit', 'Strawberry fruit',\n",
              "       'Litchi fruit', 'Litchi fruit', 'Strawberry fruit',\n",
              "       'Strawberry fruit'], dtype=object)"
            ]
          },
          "metadata": {
            "tags": []
          },
          "execution_count": 39
        }
      ]
    },
    {
      "cell_type": "code",
      "metadata": {
        "id": "Exffn2Up8JCp",
        "colab_type": "code",
        "colab": {
          "base_uri": "https://localhost:8080/",
          "height": 202
        },
        "outputId": "c16925ef-60bf-4317-b6d4-25d4f3428d70"
      },
      "source": [
        "from sklearn.metrics import classification_report,confusion_matrix\n",
        "print(classification_report(y_test,pred))\n",
        "print(confusion_matrix(y_test,pred))"
      ],
      "execution_count": 40,
      "outputs": [
        {
          "output_type": "stream",
          "text": [
            "                  precision    recall  f1-score   support\n",
            "\n",
            "    Litchi fruit       0.67      0.40      0.50         5\n",
            "Strawberry fruit       0.57      0.80      0.67         5\n",
            "\n",
            "        accuracy                           0.60        10\n",
            "       macro avg       0.62      0.60      0.58        10\n",
            "    weighted avg       0.62      0.60      0.58        10\n",
            "\n",
            "[[2 3]\n",
            " [1 4]]\n"
          ],
          "name": "stdout"
        }
      ]
    },
    {
      "cell_type": "code",
      "metadata": {
        "id": "y-sBUMRx8MiW",
        "colab_type": "code",
        "colab": {
          "base_uri": "https://localhost:8080/",
          "height": 84
        },
        "outputId": "d90685a7-302e-4b79-b25d-ee4dd7f960cc"
      },
      "source": [
        "from sklearn.linear_model import LogisticRegression as LR\n",
        "m=LR(class_weight='balanced')\n",
        "m.fit(x_train,y_train)\n",
        "pred=m.predict(x_test)\n",
        "pred"
      ],
      "execution_count": 41,
      "outputs": [
        {
          "output_type": "execute_result",
          "data": {
            "text/plain": [
              "array(['Litchi fruit', 'Strawberry fruit', 'Strawberry fruit',\n",
              "       'Litchi fruit', 'Strawberry fruit', 'Strawberry fruit',\n",
              "       'Litchi fruit', 'Strawberry fruit', 'Strawberry fruit',\n",
              "       'Strawberry fruit'], dtype=object)"
            ]
          },
          "metadata": {
            "tags": []
          },
          "execution_count": 41
        }
      ]
    },
    {
      "cell_type": "code",
      "metadata": {
        "id": "v8NofJMg8hKw",
        "colab_type": "code",
        "colab": {
          "base_uri": "https://localhost:8080/",
          "height": 202
        },
        "outputId": "c17f4de0-bd5e-4317-f175-0df2394255f2"
      },
      "source": [
        "from sklearn.metrics import classification_report,confusion_matrix\n",
        "print(classification_report(y_test,pred))\n",
        "print(confusion_matrix(y_test,pred))"
      ],
      "execution_count": 44,
      "outputs": [
        {
          "output_type": "stream",
          "text": [
            "                  precision    recall  f1-score   support\n",
            "\n",
            "    Litchi fruit       0.67      0.40      0.50         5\n",
            "Strawberry fruit       0.57      0.80      0.67         5\n",
            "\n",
            "        accuracy                           0.60        10\n",
            "       macro avg       0.62      0.60      0.58        10\n",
            "    weighted avg       0.62      0.60      0.58        10\n",
            "\n",
            "[[2 3]\n",
            " [1 4]]\n"
          ],
          "name": "stdout"
        }
      ]
    },
    {
      "cell_type": "code",
      "metadata": {
        "id": "lfNGy63E8u__",
        "colab_type": "code",
        "colab": {
          "base_uri": "https://localhost:8080/",
          "height": 84
        },
        "outputId": "8e48eede-f461-4e89-b358-3e2673f82db6"
      },
      "source": [
        "from sklearn import svm\n",
        "mod=svm.SVC()\n",
        "mod.fit(x_train,y_train)\n",
        "pred=mod.predict(x_test)\n",
        "\n",
        "pred"
      ],
      "execution_count": 45,
      "outputs": [
        {
          "output_type": "execute_result",
          "data": {
            "text/plain": [
              "array(['Litchi fruit', 'Strawberry fruit', 'Strawberry fruit',\n",
              "       'Litchi fruit', 'Strawberry fruit', 'Strawberry fruit',\n",
              "       'Litchi fruit', 'Strawberry fruit', 'Strawberry fruit',\n",
              "       'Litchi fruit'], dtype=object)"
            ]
          },
          "metadata": {
            "tags": []
          },
          "execution_count": 45
        }
      ]
    },
    {
      "cell_type": "code",
      "metadata": {
        "id": "sa4pq-0T9UG8",
        "colab_type": "code",
        "colab": {
          "base_uri": "https://localhost:8080/",
          "height": 202
        },
        "outputId": "a75b52a4-42b8-4fb0-dec0-94af2f878083"
      },
      "source": [
        "from sklearn.metrics import classification_report,confusion_matrix\n",
        "print(classification_report(y_test,pred))\n",
        "print(confusion_matrix(y_test,pred))"
      ],
      "execution_count": 47,
      "outputs": [
        {
          "output_type": "stream",
          "text": [
            "                  precision    recall  f1-score   support\n",
            "\n",
            "    Litchi fruit       0.75      0.60      0.67         5\n",
            "Strawberry fruit       0.67      0.80      0.73         5\n",
            "\n",
            "        accuracy                           0.70        10\n",
            "       macro avg       0.71      0.70      0.70        10\n",
            "    weighted avg       0.71      0.70      0.70        10\n",
            "\n",
            "[[3 2]\n",
            " [1 4]]\n"
          ],
          "name": "stdout"
        }
      ]
    },
    {
      "cell_type": "code",
      "metadata": {
        "id": "oG8USOtJ9YV-",
        "colab_type": "code",
        "colab": {
          "base_uri": "https://localhost:8080/",
          "height": 235
        },
        "outputId": "5501cb8a-d5dc-4dac-83ab-4ffc4cee78e5"
      },
      "source": [
        "from sklearn.ensemble import RandomForestClassifier as RFC\n",
        "m=RFC()\n",
        "m.fit(x_train,y_train)\n",
        "pred=m.predict(x_test)\n",
        "pred_prob=m.predict_proba(x_test)\n",
        "print(pred)\n",
        "print(pred_prob)"
      ],
      "execution_count": 48,
      "outputs": [
        {
          "output_type": "stream",
          "text": [
            "['Strawberry fruit' 'Litchi fruit' 'Strawberry fruit' 'Strawberry fruit'\n",
            " 'Litchi fruit' 'Strawberry fruit' 'Litchi fruit' 'Strawberry fruit'\n",
            " 'Strawberry fruit' 'Litchi fruit']\n",
            "[[0.3  0.7 ]\n",
            " [0.78 0.22]\n",
            " [0.09 0.91]\n",
            " [0.45 0.55]\n",
            " [0.62 0.38]\n",
            " [0.49 0.51]\n",
            " [0.62 0.38]\n",
            " [0.39 0.61]\n",
            " [0.19 0.81]\n",
            " [0.51 0.49]]\n"
          ],
          "name": "stdout"
        }
      ]
    },
    {
      "cell_type": "code",
      "metadata": {
        "id": "lGrbWbPi9exV",
        "colab_type": "code",
        "colab": {
          "base_uri": "https://localhost:8080/",
          "height": 202
        },
        "outputId": "a4446d1a-7343-4c81-ec47-bb43aca46d59"
      },
      "source": [
        "from sklearn.metrics import classification_report,confusion_matrix\n",
        "print(classification_report(y_test,pred))\n",
        "print(confusion_matrix(y_test,pred))"
      ],
      "execution_count": 49,
      "outputs": [
        {
          "output_type": "stream",
          "text": [
            "                  precision    recall  f1-score   support\n",
            "\n",
            "    Litchi fruit       1.00      0.80      0.89         5\n",
            "Strawberry fruit       0.83      1.00      0.91         5\n",
            "\n",
            "        accuracy                           0.90        10\n",
            "       macro avg       0.92      0.90      0.90        10\n",
            "    weighted avg       0.92      0.90      0.90        10\n",
            "\n",
            "[[4 1]\n",
            " [0 5]]\n"
          ],
          "name": "stdout"
        }
      ]
    },
    {
      "cell_type": "code",
      "metadata": {
        "id": "8W0lYhAE9jiY",
        "colab_type": "code",
        "colab": {}
      },
      "source": [
        "import cv2\n",
        "import numpy as np\n",
        "from skimage.io import imread\n",
        "import matplotlib.pyplot as plt\n",
        "\n"
      ],
      "execution_count": 50,
      "outputs": []
    },
    {
      "cell_type": "code",
      "metadata": {
        "id": "86FhY7zd-zql",
        "colab_type": "code",
        "colab": {
          "base_uri": "https://localhost:8080/",
          "height": 302
        },
        "outputId": "f0831983-de86-48d3-8c5e-0d5da3479247"
      },
      "source": [
        "a=imread('https://image.shutterstock.com/image-photo/lychee-leaves-isolated-on-white-260nw-1023780235.jpg')\n",
        "print(a.shape)\n",
        "plt.imshow(a)\n",
        "new=[]\n",
        "imgresized = resize(a,(50,50,3))\n",
        "new.append(imgresized.flatten())\n",
        "new"
      ],
      "execution_count": 54,
      "outputs": [
        {
          "output_type": "stream",
          "text": [
            "(280, 316, 3)\n"
          ],
          "name": "stdout"
        },
        {
          "output_type": "execute_result",
          "data": {
            "text/plain": [
              "[array([1., 1., 1., ..., 1., 1., 1.])]"
            ]
          },
          "metadata": {
            "tags": []
          },
          "execution_count": 54
        },
        {
          "output_type": "display_data",
          "data": {
            "image/png": "[encoded data removed]",
            "text/plain": [
              "<Figure size 432x288 with 1 Axes>"
            ]
          },
          "metadata": {
            "tags": [],
            "needs_background": "light"
          }
        }
      ]
    },
    {
      "cell_type": "code",
      "metadata": {
        "id": "xfIXpUmu--4G",
        "colab_type": "code",
        "colab": {}
      },
      "source": [
        "b=np.array(new)"
      ],
      "execution_count": 55,
      "outputs": []
    },
    {
      "cell_type": "code",
      "metadata": {
        "id": "HlTYeCZ7_Gfa",
        "colab_type": "code",
        "colab": {
          "base_uri": "https://localhost:8080/",
          "height": 34
        },
        "outputId": "5277f0eb-2107-4ffd-fa35-f50e3d153d9a"
      },
      "source": [
        "p=model.predict(b)    \n",
        "p"
      ],
      "execution_count": 56,
      "outputs": [
        {
          "output_type": "execute_result",
          "data": {
            "text/plain": [
              "array(['Litchi fruit'], dtype=object)"
            ]
          },
          "metadata": {
            "tags": []
          },
          "execution_count": 56
        }
      ]
    },
    {
      "cell_type": "code",
      "metadata": {
        "id": "EF3ovm8__KwB",
        "colab_type": "code",
        "colab": {}
      },
      "source": [
        ""
      ],
      "execution_count": null,
      "outputs": []
    }
  ]
}
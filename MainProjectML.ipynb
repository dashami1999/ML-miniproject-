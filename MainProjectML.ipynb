{
  "nbformat": 4,
  "nbformat_minor": 0,
  "metadata": {
    "colab": {
      "name": "MainProjectML.ipynb",
      "provenance": [],
      "collapsed_sections": [],
      "mount_file_id": "1EQGugMHpd-rC9qWI7IpsSNNQ8PahkIaU",
      "authorship_tag": "ABX9TyOgj1u5b2gVib2kA2g1a+O3",
      "include_colab_link": true
    },
    "kernelspec": {
      "name": "python3",
      "display_name": "Python 3"
    }
  },
  "cells": [
    {
      "cell_type": "markdown",
      "metadata": {
        "id": "view-in-github",
        "colab_type": "text"
      },
      "source": [
        "<a href=\"https://colab.research.google.com/github/dashami1999/ML-miniproject-/blob/master/MainProjectML.ipynb\" target=\"_parent\"><img src=\"https://colab.research.google.com/assets/colab-badge.svg\" alt=\"Open In Colab\"/></a>"
      ]
    },
    {
      "cell_type": "code",
      "metadata": {
        "id": "eTWkDAD1WLdk"
      },
      "source": [
        "import pandas as pd \n",
        "df=pd.read_csv('/content/drive/My Drive/hotel sentimental analysis/test.csv')"
      ],
      "execution_count": null,
      "outputs": []
    },
    {
      "cell_type": "code",
      "metadata": {
        "id": "Lts9wGIvWcfZ",
        "outputId": "c8ad424d-f2c0-444b-c28d-8386da747303",
        "colab": {
          "base_uri": "https://localhost:8080/",
          "height": 35
        }
      },
      "source": [
        "df.shape"
      ],
      "execution_count": null,
      "outputs": [
        {
          "output_type": "execute_result",
          "data": {
            "text/plain": [
              "(29404, 5)"
            ]
          },
          "metadata": {
            "tags": []
          },
          "execution_count": 2
        }
      ]
    },
    {
      "cell_type": "code",
      "metadata": {
        "id": "71D5xVXBYlk4",
        "outputId": "84194939-ee47-46b7-bc35-ae028e2b79d8",
        "colab": {
          "base_uri": "https://localhost:8080/",
          "height": 194
        }
      },
      "source": [
        "df.head()"
      ],
      "execution_count": null,
      "outputs": [
        {
          "output_type": "execute_result",
          "data": {
            "text/html": [
              "<div>\n",
              "<style scoped>\n",
              "    .dataframe tbody tr th:only-of-type {\n",
              "        vertical-align: middle;\n",
              "    }\n",
              "\n",
              "    .dataframe tbody tr th {\n",
              "        vertical-align: top;\n",
              "    }\n",
              "\n",
              "    .dataframe thead th {\n",
              "        text-align: right;\n",
              "    }\n",
              "</style>\n",
              "<table border=\"1\" class=\"dataframe\">\n",
              "  <thead>\n",
              "    <tr style=\"text-align: right;\">\n",
              "      <th></th>\n",
              "      <th>User_ID</th>\n",
              "      <th>Description</th>\n",
              "      <th>Browser_Used</th>\n",
              "      <th>Device_Used</th>\n",
              "      <th>Is_Response</th>\n",
              "    </tr>\n",
              "  </thead>\n",
              "  <tbody>\n",
              "    <tr>\n",
              "      <th>0</th>\n",
              "      <td>id80132</td>\n",
              "      <td>Looking for a motel in close proximity to TV t...</td>\n",
              "      <td>Firefox</td>\n",
              "      <td>Mobile</td>\n",
              "      <td>happy</td>\n",
              "    </tr>\n",
              "    <tr>\n",
              "      <th>1</th>\n",
              "      <td>id80133</td>\n",
              "      <td>not satisfied</td>\n",
              "      <td>InternetExplorer</td>\n",
              "      <td>Desktop</td>\n",
              "      <td>not happy</td>\n",
              "    </tr>\n",
              "    <tr>\n",
              "      <th>2</th>\n",
              "      <td>id80134</td>\n",
              "      <td>Visited Seattle on business. Spent - nights in...</td>\n",
              "      <td>IE</td>\n",
              "      <td>Tablet</td>\n",
              "      <td>happy</td>\n",
              "    </tr>\n",
              "    <tr>\n",
              "      <th>3</th>\n",
              "      <td>id80135</td>\n",
              "      <td>This hotel location is excellent and the rooms...</td>\n",
              "      <td>Edge</td>\n",
              "      <td>Mobile</td>\n",
              "      <td>happy</td>\n",
              "    </tr>\n",
              "    <tr>\n",
              "      <th>4</th>\n",
              "      <td>id80136</td>\n",
              "      <td>This hotel is awesome I love the service Antho...</td>\n",
              "      <td>Mozilla</td>\n",
              "      <td>Mobile</td>\n",
              "      <td>happy</td>\n",
              "    </tr>\n",
              "  </tbody>\n",
              "</table>\n",
              "</div>"
            ],
            "text/plain": [
              "   User_ID  ... Is_Response\n",
              "0  id80132  ...       happy\n",
              "1  id80133  ...   not happy\n",
              "2  id80134  ...       happy\n",
              "3  id80135  ...       happy\n",
              "4  id80136  ...       happy\n",
              "\n",
              "[5 rows x 5 columns]"
            ]
          },
          "metadata": {
            "tags": []
          },
          "execution_count": 3
        }
      ]
    },
    {
      "cell_type": "code",
      "metadata": {
        "id": "cXrNustIYvTB",
        "outputId": "2e078212-07c0-4d07-ee47-989107ddb856",
        "colab": {
          "base_uri": "https://localhost:8080/",
          "height": 230
        }
      },
      "source": [
        "df.info()"
      ],
      "execution_count": null,
      "outputs": [
        {
          "output_type": "stream",
          "text": [
            "<class 'pandas.core.frame.DataFrame'>\n",
            "RangeIndex: 29404 entries, 0 to 29403\n",
            "Data columns (total 5 columns):\n",
            " #   Column        Non-Null Count  Dtype \n",
            "---  ------        --------------  ----- \n",
            " 0   User_ID       29404 non-null  object\n",
            " 1   Description   29404 non-null  object\n",
            " 2   Browser_Used  29404 non-null  object\n",
            " 3   Device_Used   29404 non-null  object\n",
            " 4   Is_Response   29404 non-null  object\n",
            "dtypes: object(5)\n",
            "memory usage: 1.1+ MB\n"
          ],
          "name": "stdout"
        }
      ]
    },
    {
      "cell_type": "code",
      "metadata": {
        "id": "J3TEwTGIYzV9",
        "outputId": "740fde18-8654-4010-f1c4-3d24b8b23945",
        "colab": {
          "base_uri": "https://localhost:8080/",
          "height": 194
        }
      },
      "source": [
        "df.describe().transpose()"
      ],
      "execution_count": null,
      "outputs": [
        {
          "output_type": "execute_result",
          "data": {
            "text/html": [
              "<div>\n",
              "<style scoped>\n",
              "    .dataframe tbody tr th:only-of-type {\n",
              "        vertical-align: middle;\n",
              "    }\n",
              "\n",
              "    .dataframe tbody tr th {\n",
              "        vertical-align: top;\n",
              "    }\n",
              "\n",
              "    .dataframe thead th {\n",
              "        text-align: right;\n",
              "    }\n",
              "</style>\n",
              "<table border=\"1\" class=\"dataframe\">\n",
              "  <thead>\n",
              "    <tr style=\"text-align: right;\">\n",
              "      <th></th>\n",
              "      <th>count</th>\n",
              "      <th>unique</th>\n",
              "      <th>top</th>\n",
              "      <th>freq</th>\n",
              "    </tr>\n",
              "  </thead>\n",
              "  <tbody>\n",
              "    <tr>\n",
              "      <th>User_ID</th>\n",
              "      <td>29404</td>\n",
              "      <td>29404</td>\n",
              "      <td>id104381</td>\n",
              "      <td>1</td>\n",
              "    </tr>\n",
              "    <tr>\n",
              "      <th>Description</th>\n",
              "      <td>29404</td>\n",
              "      <td>26851</td>\n",
              "      <td>too expensive</td>\n",
              "      <td>1985</td>\n",
              "    </tr>\n",
              "    <tr>\n",
              "      <th>Browser_Used</th>\n",
              "      <td>29404</td>\n",
              "      <td>11</td>\n",
              "      <td>Firefox</td>\n",
              "      <td>5676</td>\n",
              "    </tr>\n",
              "    <tr>\n",
              "      <th>Device_Used</th>\n",
              "      <td>29404</td>\n",
              "      <td>3</td>\n",
              "      <td>Desktop</td>\n",
              "      <td>11349</td>\n",
              "    </tr>\n",
              "    <tr>\n",
              "      <th>Is_Response</th>\n",
              "      <td>29404</td>\n",
              "      <td>3</td>\n",
              "      <td>happy</td>\n",
              "      <td>26865</td>\n",
              "    </tr>\n",
              "  </tbody>\n",
              "</table>\n",
              "</div>"
            ],
            "text/plain": [
              "              count unique            top   freq\n",
              "User_ID       29404  29404       id104381      1\n",
              "Description   29404  26851  too expensive   1985\n",
              "Browser_Used  29404     11        Firefox   5676\n",
              "Device_Used   29404      3        Desktop  11349\n",
              "Is_Response   29404      3          happy  26865"
            ]
          },
          "metadata": {
            "tags": []
          },
          "execution_count": 5
        }
      ]
    },
    {
      "cell_type": "code",
      "metadata": {
        "id": "ICvnQWLnY8Qb",
        "outputId": "b2ae4fd7-338b-4d02-9f33-fce4065a27e9",
        "colab": {
          "base_uri": "https://localhost:8080/",
          "height": 212
        }
      },
      "source": [
        "####checking missing value in the dataset\n",
        "count = df.isnull().sum().sort_values(ascending= False)\n",
        "percentage = ((df.isnull().sum()/len(df)*100)).sort_values(ascending=False)\n",
        "missing_data = pd.concat([count,percentage],axis = 1,\n",
        "keys = ['count','percentage'])\n",
        "\n",
        "print('count and percentage of missing values for the columns:')\n",
        "\n",
        "missing_data"
      ],
      "execution_count": null,
      "outputs": [
        {
          "output_type": "stream",
          "text": [
            "count and percentage of missing values for the columns:\n"
          ],
          "name": "stdout"
        },
        {
          "output_type": "execute_result",
          "data": {
            "text/html": [
              "<div>\n",
              "<style scoped>\n",
              "    .dataframe tbody tr th:only-of-type {\n",
              "        vertical-align: middle;\n",
              "    }\n",
              "\n",
              "    .dataframe tbody tr th {\n",
              "        vertical-align: top;\n",
              "    }\n",
              "\n",
              "    .dataframe thead th {\n",
              "        text-align: right;\n",
              "    }\n",
              "</style>\n",
              "<table border=\"1\" class=\"dataframe\">\n",
              "  <thead>\n",
              "    <tr style=\"text-align: right;\">\n",
              "      <th></th>\n",
              "      <th>count</th>\n",
              "      <th>percentage</th>\n",
              "    </tr>\n",
              "  </thead>\n",
              "  <tbody>\n",
              "    <tr>\n",
              "      <th>Is_Response</th>\n",
              "      <td>0</td>\n",
              "      <td>0.0</td>\n",
              "    </tr>\n",
              "    <tr>\n",
              "      <th>Device_Used</th>\n",
              "      <td>0</td>\n",
              "      <td>0.0</td>\n",
              "    </tr>\n",
              "    <tr>\n",
              "      <th>Browser_Used</th>\n",
              "      <td>0</td>\n",
              "      <td>0.0</td>\n",
              "    </tr>\n",
              "    <tr>\n",
              "      <th>Description</th>\n",
              "      <td>0</td>\n",
              "      <td>0.0</td>\n",
              "    </tr>\n",
              "    <tr>\n",
              "      <th>User_ID</th>\n",
              "      <td>0</td>\n",
              "      <td>0.0</td>\n",
              "    </tr>\n",
              "  </tbody>\n",
              "</table>\n",
              "</div>"
            ],
            "text/plain": [
              "              count  percentage\n",
              "Is_Response       0         0.0\n",
              "Device_Used       0         0.0\n",
              "Browser_Used      0         0.0\n",
              "Description       0         0.0\n",
              "User_ID           0         0.0"
            ]
          },
          "metadata": {
            "tags": []
          },
          "execution_count": 6
        }
      ]
    },
    {
      "cell_type": "code",
      "metadata": {
        "id": "y_NyFcELZF-p",
        "outputId": "e0fa0f9d-75f6-4216-b0b4-e1ddf3c089d8",
        "colab": {
          "base_uri": "https://localhost:8080/",
          "height": 428
        }
      },
      "source": [
        "import matplotlib.pyplot as plt\n",
        "%matplotlib inline\n",
        "print('percentage for default\\n')\n",
        "print(round(df.Is_Response.value_counts(normalize=True)*100,2))\n",
        "round(df.Is_Response.value_counts(normalize=True)*100,2).plot(kind = 'bar')\n",
        "plt.title('percentage destributed by review type')\n",
        "plt.show()"
      ],
      "execution_count": null,
      "outputs": [
        {
          "output_type": "stream",
          "text": [
            "percentage for default\n",
            "\n",
            "happy        91.37\n",
            "not happy     6.79\n",
            "neutral       1.84\n",
            "Name: Is_Response, dtype: float64\n"
          ],
          "name": "stdout"
        },
        {
          "output_type": "display_data",
          "data": {
            "image/png": "[encoded data removed]",
            "text/plain": [
              "<Figure size 432x288 with 1 Axes>"
            ]
          },
          "metadata": {
            "tags": [],
            "needs_background": "light"
          }
        }
      ]
    },
    {
      "cell_type": "code",
      "metadata": {
        "id": "gIkpNlLaZKB3"
      },
      "source": [
        "df.drop(columns = ['User_ID','Browser_Used','Device_Used'],inplace=True)"
      ],
      "execution_count": null,
      "outputs": []
    },
    {
      "cell_type": "code",
      "metadata": {
        "id": "XUkzZNBJZOyB"
      },
      "source": [
        "import re\n",
        "import string\n",
        "\n",
        "\n",
        "def text_clean_1(text):\n",
        "  text = text.lower()\n",
        "  text = re.sub('\\[.*?\\]','',text)\n",
        "  text = re.sub('[%s]'% re.escape(string.punctuation),'',text)\n",
        "  text = re.sub('\\w*\\d\\w*','',text)\n",
        "  return text\n",
        "\n",
        "cleaned1 = lambda x: text_clean_1(x)\n"
      ],
      "execution_count": null,
      "outputs": []
    },
    {
      "cell_type": "code",
      "metadata": {
        "id": "qot5vBkiZTPV",
        "outputId": "0974d2d1-5e92-4af6-cae5-0199c61f915f",
        "colab": {
          "base_uri": "https://localhost:8080/",
          "height": 340
        }
      },
      "source": [
        "df['cleaned_description'] = pd.DataFrame(df.Description.apply(cleaned1))\n",
        "df.head(10)"
      ],
      "execution_count": null,
      "outputs": [
        {
          "output_type": "execute_result",
          "data": {
            "text/html": [
              "<div>\n",
              "<style scoped>\n",
              "    .dataframe tbody tr th:only-of-type {\n",
              "        vertical-align: middle;\n",
              "    }\n",
              "\n",
              "    .dataframe tbody tr th {\n",
              "        vertical-align: top;\n",
              "    }\n",
              "\n",
              "    .dataframe thead th {\n",
              "        text-align: right;\n",
              "    }\n",
              "</style>\n",
              "<table border=\"1\" class=\"dataframe\">\n",
              "  <thead>\n",
              "    <tr style=\"text-align: right;\">\n",
              "      <th></th>\n",
              "      <th>Description</th>\n",
              "      <th>Is_Response</th>\n",
              "      <th>cleaned_description</th>\n",
              "    </tr>\n",
              "  </thead>\n",
              "  <tbody>\n",
              "    <tr>\n",
              "      <th>0</th>\n",
              "      <td>Looking for a motel in close proximity to TV t...</td>\n",
              "      <td>happy</td>\n",
              "      <td>looking for a motel in close proximity to tv t...</td>\n",
              "    </tr>\n",
              "    <tr>\n",
              "      <th>1</th>\n",
              "      <td>not satisfied</td>\n",
              "      <td>not happy</td>\n",
              "      <td>not satisfied</td>\n",
              "    </tr>\n",
              "    <tr>\n",
              "      <th>2</th>\n",
              "      <td>Visited Seattle on business. Spent - nights in...</td>\n",
              "      <td>happy</td>\n",
              "      <td>visited seattle on business spent  nights in t...</td>\n",
              "    </tr>\n",
              "    <tr>\n",
              "      <th>3</th>\n",
              "      <td>This hotel location is excellent and the rooms...</td>\n",
              "      <td>happy</td>\n",
              "      <td>this hotel location is excellent and the rooms...</td>\n",
              "    </tr>\n",
              "    <tr>\n",
              "      <th>4</th>\n",
              "      <td>This hotel is awesome I love the service Antho...</td>\n",
              "      <td>happy</td>\n",
              "      <td>this hotel is awesome i love the service antho...</td>\n",
              "    </tr>\n",
              "    <tr>\n",
              "      <th>5</th>\n",
              "      <td>most expensive , not worth</td>\n",
              "      <td>not happy</td>\n",
              "      <td>most expensive  not worth</td>\n",
              "    </tr>\n",
              "    <tr>\n",
              "      <th>6</th>\n",
              "      <td>What a pleasant place to stay!\\nThe hotel is b...</td>\n",
              "      <td>happy</td>\n",
              "      <td>what a pleasant place to stay\\nthe hotel is be...</td>\n",
              "    </tr>\n",
              "    <tr>\n",
              "      <th>7</th>\n",
              "      <td>I booked out the same day I arrived. It cost m...</td>\n",
              "      <td>not happy</td>\n",
              "      <td>i booked out the same day i arrived it cost me...</td>\n",
              "    </tr>\n",
              "    <tr>\n",
              "      <th>8</th>\n",
              "      <td>Unlike some hotels that grimace when you show ...</td>\n",
              "      <td>happy</td>\n",
              "      <td>unlike some hotels that grimace when you show ...</td>\n",
              "    </tr>\n",
              "    <tr>\n",
              "      <th>9</th>\n",
              "      <td>its nyc but most expensive</td>\n",
              "      <td>neutral</td>\n",
              "      <td>its nyc but most expensive</td>\n",
              "    </tr>\n",
              "  </tbody>\n",
              "</table>\n",
              "</div>"
            ],
            "text/plain": [
              "                                         Description  ...                                cleaned_description\n",
              "0  Looking for a motel in close proximity to TV t...  ...  looking for a motel in close proximity to tv t...\n",
              "1                                      not satisfied  ...                                      not satisfied\n",
              "2  Visited Seattle on business. Spent - nights in...  ...  visited seattle on business spent  nights in t...\n",
              "3  This hotel location is excellent and the rooms...  ...  this hotel location is excellent and the rooms...\n",
              "4  This hotel is awesome I love the service Antho...  ...  this hotel is awesome i love the service antho...\n",
              "5                         most expensive , not worth  ...                          most expensive  not worth\n",
              "6  What a pleasant place to stay!\\nThe hotel is b...  ...  what a pleasant place to stay\\nthe hotel is be...\n",
              "7  I booked out the same day I arrived. It cost m...  ...  i booked out the same day i arrived it cost me...\n",
              "8  Unlike some hotels that grimace when you show ...  ...  unlike some hotels that grimace when you show ...\n",
              "9                         its nyc but most expensive  ...                         its nyc but most expensive\n",
              "\n",
              "[10 rows x 3 columns]"
            ]
          },
          "metadata": {
            "tags": []
          },
          "execution_count": 10
        }
      ]
    },
    {
      "cell_type": "code",
      "metadata": {
        "id": "-qdIN4GJZXUM"
      },
      "source": [
        "def text_clean_2(text):\n",
        "  text = text.lower()\n",
        "  text = re.sub('[''\"\"...]','',text)\n",
        "  text = re.sub('\\n','', text)\n",
        "  return text\n",
        "\n",
        "cleaned2 = lambda x: text_clean_2(x)\n"
      ],
      "execution_count": null,
      "outputs": []
    },
    {
      "cell_type": "code",
      "metadata": {
        "id": "EhYVUXXMZcbO",
        "outputId": "12126e6b-4f4c-477f-ab04-84e3d625e272",
        "colab": {
          "base_uri": "https://localhost:8080/",
          "height": 340
        }
      },
      "source": [
        "df['cleaned_description_new'] = pd.DataFrame(df['cleaned_description'].apply(cleaned2))\n",
        "df.head(10)"
      ],
      "execution_count": null,
      "outputs": [
        {
          "output_type": "execute_result",
          "data": {
            "text/html": [
              "<div>\n",
              "<style scoped>\n",
              "    .dataframe tbody tr th:only-of-type {\n",
              "        vertical-align: middle;\n",
              "    }\n",
              "\n",
              "    .dataframe tbody tr th {\n",
              "        vertical-align: top;\n",
              "    }\n",
              "\n",
              "    .dataframe thead th {\n",
              "        text-align: right;\n",
              "    }\n",
              "</style>\n",
              "<table border=\"1\" class=\"dataframe\">\n",
              "  <thead>\n",
              "    <tr style=\"text-align: right;\">\n",
              "      <th></th>\n",
              "      <th>Description</th>\n",
              "      <th>Is_Response</th>\n",
              "      <th>cleaned_description</th>\n",
              "      <th>cleaned_description_new</th>\n",
              "    </tr>\n",
              "  </thead>\n",
              "  <tbody>\n",
              "    <tr>\n",
              "      <th>0</th>\n",
              "      <td>Looking for a motel in close proximity to TV t...</td>\n",
              "      <td>happy</td>\n",
              "      <td>looking for a motel in close proximity to tv t...</td>\n",
              "      <td>looking for a motel in close proximity to tv t...</td>\n",
              "    </tr>\n",
              "    <tr>\n",
              "      <th>1</th>\n",
              "      <td>not satisfied</td>\n",
              "      <td>not happy</td>\n",
              "      <td>not satisfied</td>\n",
              "      <td>not satisfied</td>\n",
              "    </tr>\n",
              "    <tr>\n",
              "      <th>2</th>\n",
              "      <td>Visited Seattle on business. Spent - nights in...</td>\n",
              "      <td>happy</td>\n",
              "      <td>visited seattle on business spent  nights in t...</td>\n",
              "      <td>visited seattle on business spent  nights in t...</td>\n",
              "    </tr>\n",
              "    <tr>\n",
              "      <th>3</th>\n",
              "      <td>This hotel location is excellent and the rooms...</td>\n",
              "      <td>happy</td>\n",
              "      <td>this hotel location is excellent and the rooms...</td>\n",
              "      <td>this hotel location is excellent and the rooms...</td>\n",
              "    </tr>\n",
              "    <tr>\n",
              "      <th>4</th>\n",
              "      <td>This hotel is awesome I love the service Antho...</td>\n",
              "      <td>happy</td>\n",
              "      <td>this hotel is awesome i love the service antho...</td>\n",
              "      <td>this hotel is awesome i love the service antho...</td>\n",
              "    </tr>\n",
              "    <tr>\n",
              "      <th>5</th>\n",
              "      <td>most expensive , not worth</td>\n",
              "      <td>not happy</td>\n",
              "      <td>most expensive  not worth</td>\n",
              "      <td>most expensive  not worth</td>\n",
              "    </tr>\n",
              "    <tr>\n",
              "      <th>6</th>\n",
              "      <td>What a pleasant place to stay!\\nThe hotel is b...</td>\n",
              "      <td>happy</td>\n",
              "      <td>what a pleasant place to stay\\nthe hotel is be...</td>\n",
              "      <td>what a pleasant place to staythe hotel is beau...</td>\n",
              "    </tr>\n",
              "    <tr>\n",
              "      <th>7</th>\n",
              "      <td>I booked out the same day I arrived. It cost m...</td>\n",
              "      <td>not happy</td>\n",
              "      <td>i booked out the same day i arrived it cost me...</td>\n",
              "      <td>i booked out the same day i arrived it cost me...</td>\n",
              "    </tr>\n",
              "    <tr>\n",
              "      <th>8</th>\n",
              "      <td>Unlike some hotels that grimace when you show ...</td>\n",
              "      <td>happy</td>\n",
              "      <td>unlike some hotels that grimace when you show ...</td>\n",
              "      <td>unlike some hotels that grimace when you show ...</td>\n",
              "    </tr>\n",
              "    <tr>\n",
              "      <th>9</th>\n",
              "      <td>its nyc but most expensive</td>\n",
              "      <td>neutral</td>\n",
              "      <td>its nyc but most expensive</td>\n",
              "      <td>its nyc but most expensive</td>\n",
              "    </tr>\n",
              "  </tbody>\n",
              "</table>\n",
              "</div>"
            ],
            "text/plain": [
              "                                         Description  ...                            cleaned_description_new\n",
              "0  Looking for a motel in close proximity to TV t...  ...  looking for a motel in close proximity to tv t...\n",
              "1                                      not satisfied  ...                                      not satisfied\n",
              "2  Visited Seattle on business. Spent - nights in...  ...  visited seattle on business spent  nights in t...\n",
              "3  This hotel location is excellent and the rooms...  ...  this hotel location is excellent and the rooms...\n",
              "4  This hotel is awesome I love the service Antho...  ...  this hotel is awesome i love the service antho...\n",
              "5                         most expensive , not worth  ...                          most expensive  not worth\n",
              "6  What a pleasant place to stay!\\nThe hotel is b...  ...  what a pleasant place to staythe hotel is beau...\n",
              "7  I booked out the same day I arrived. It cost m...  ...  i booked out the same day i arrived it cost me...\n",
              "8  Unlike some hotels that grimace when you show ...  ...  unlike some hotels that grimace when you show ...\n",
              "9                         its nyc but most expensive  ...                         its nyc but most expensive\n",
              "\n",
              "[10 rows x 4 columns]"
            ]
          },
          "metadata": {
            "tags": []
          },
          "execution_count": 12
        }
      ]
    },
    {
      "cell_type": "code",
      "metadata": {
        "id": "CpwVM5IzZgfj",
        "outputId": "4254083f-51f1-4ed6-d7ee-490eeef9489f",
        "colab": {
          "base_uri": "https://localhost:8080/",
          "height": 88
        }
      },
      "source": [
        "from sklearn.model_selection import train_test_split\n",
        "\n",
        "Independent_var = df.cleaned_description_new\n",
        "Dependent_var  = df.Is_Response\n",
        "\n",
        "IV_train,IV_test,DV_train,DV_test =  train_test_split(Independent_var,Dependent_var,test_size = 0.1,random_state = 225)\n",
        "\n",
        "print('IV_train:',len(IV_train)) \n",
        "print('IV_test:',len(IV_test)) \n",
        "print('DV_train:',len(DV_train)) \n",
        "print('DV_test:',len(DV_test))\n"
      ],
      "execution_count": null,
      "outputs": [
        {
          "output_type": "stream",
          "text": [
            "IV_train: 26463\n",
            "IV_test: 2941\n",
            "DV_train: 26463\n",
            "DV_test: 2941\n"
          ],
          "name": "stdout"
        }
      ]
    },
    {
      "cell_type": "code",
      "metadata": {
        "id": "9c-k60oIZm4j"
      },
      "source": [
        "from sklearn.feature_extraction.text import TfidfVectorizer\n",
        "from sklearn.linear_model import LogisticRegression\n",
        "\n",
        "tvec = TfidfVectorizer()\n",
        "clf2 = LogisticRegression(solver = 'lbfgs')\n",
        "\n",
        "from sklearn.pipeline import Pipeline"
      ],
      "execution_count": null,
      "outputs": []
    },
    {
      "cell_type": "code",
      "metadata": {
        "id": "ddy0cN0YZsB7",
        "outputId": "712dc1eb-60f0-4d41-dc23-23374ab4b79e",
        "colab": {
          "base_uri": "https://localhost:8080/",
          "height": 70
        }
      },
      "source": [
        "model = Pipeline([('vectorizer',tvec),('classifier',clf2)])\n",
        "\n",
        "model.fit(IV_train, DV_train)\n",
        "\n",
        "from sklearn.metrics import confusion_matrix\n",
        "\n",
        "predictions = model.predict(IV_test)\n",
        "\n",
        "confusion_matrix(predictions,DV_test)"
      ],
      "execution_count": null,
      "outputs": [
        {
          "output_type": "execute_result",
          "data": {
            "text/plain": [
              "array([[2688,    0,    0],\n",
              "       [   0,   54,    0],\n",
              "       [   0,    0,  199]])"
            ]
          },
          "metadata": {
            "tags": []
          },
          "execution_count": 15
        }
      ]
    },
    {
      "cell_type": "code",
      "metadata": {
        "id": "Y9DJPlqeZv9i",
        "outputId": "f1b00cbe-1852-4c33-e7e3-90ba4f8e047b",
        "colab": {
          "base_uri": "https://localhost:8080/",
          "height": 70
        }
      },
      "source": [
        "from sklearn.metrics import  accuracy_score, precision_score,recall_score\n",
        "\n",
        "print(\"Accuaracy :\", accuracy_score(predictions,DV_test))\n",
        "print(\"Precision :\", precision_score(predictions, DV_test,average = 'weighted'))\n",
        "print(\"Recall :\", recall_score(predictions, DV_test,average = 'weighted'))\n"
      ],
      "execution_count": null,
      "outputs": [
        {
          "output_type": "stream",
          "text": [
            "Accuaracy : 1.0\n",
            "Precision : 1.0\n",
            "Recall : 1.0\n"
          ],
          "name": "stdout"
        }
      ]
    },
    {
      "cell_type": "code",
      "metadata": {
        "id": "Mp0FPzXHZ2Gt",
        "outputId": "95580416-21b2-41bc-d413-a09c02f2d064",
        "colab": {
          "base_uri": "https://localhost:8080/",
          "height": 35
        }
      },
      "source": [
        "example = [\"i am  happy\"]\n",
        "result = model.predict(example)\n",
        "\n",
        "print(result)"
      ],
      "execution_count": null,
      "outputs": [
        {
          "output_type": "stream",
          "text": [
            "['happy']\n"
          ],
          "name": "stdout"
        }
      ]
    },
    {
      "cell_type": "code",
      "metadata": {
        "id": "NrgvyfPUZ596"
      },
      "source": [
        ""
      ],
      "execution_count": null,
      "outputs": []
    }
  ]
}